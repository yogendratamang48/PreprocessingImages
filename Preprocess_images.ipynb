{
 "cells": [
  {
   "cell_type": "code",
   "execution_count": 1,
   "metadata": {
    "collapsed": true
   },
   "outputs": [],
   "source": [
    "from PIL import Image\n",
    "import numpy as np\n",
    "import glob\n",
    "from collections import Counter\n",
    "from resizeimage import resizeimage\n",
    "import re\n",
    "\n",
    "STANDARD_SIZE=(640, 480)\n",
    "TRAIN_IMAGES=88\n",
    "TEST_IMAGES=21\n",
    "IMG_ROW=224\n",
    "IMG_COL=168"
   ]
  },
  {
   "cell_type": "code",
   "execution_count": 108,
   "metadata": {
    "collapsed": false
   },
   "outputs": [],
   "source": [
    "#Define function\n",
    "def img_to_matrix(filename, verbose=False):\n",
    "    img=Image.open(filename)\n",
    "    if verbose==True:\n",
    "        print(\"Changing size from %s to %s \" % (str(img.size), str(STANDARD_SIZE)))\n",
    "    img=img.resize(STANDARD_SIZE)\n",
    "    img=list(img.getdata())\n",
    "    img=map(list, img)\n",
    "    img=np.array(img)\n",
    "    return img\n",
    "\n",
    "def flatten_image(img):\n",
    "    s=img.shape[0]*img.shape[1]\n",
    "    img_wide=img.reshape(1, s)\n",
    "    return img_wide[0]\n",
    "\n",
    "def extract_class(list_of_labels):\n",
    "    list_classes=[]\n",
    "    for label in list_of_labels:\n",
    "        list_classes.append(label.split('\\\\')[1])\n",
    "    return list_classes\n",
    "\n",
    "def convert_to_matrix(img):\n",
    "    img=np.array(img.getdata()).astype(np.float32).reshape((3, img.size[0], img.size[1]))\n",
    "    return img\n",
    "\n",
    "def pre_process_image(img):\n",
    "    img = resizeimage.resize('thumbnail', img, [330, 220])\n",
    "    img = resizeimage.resize_crop(img, [330, 220])\n",
    "    #img = resizeimage.resize_width(img, 224)\n",
    "    #img = resizeimage.resize('thumbnail', img, [224, 168])\n",
    "    return img\n",
    "\n",
    "def return_array_classes(namelist):\n",
    "    classes=[]\n",
    "    for car_model in namelist:\n",
    "        classes.append(int(''.join(re.findall('[0-9]+', car_model)))) #Convert list to string\n",
    "    return np.asarray(classes)"
   ]
  },
  {
   "cell_type": "code",
   "execution_count": 45,
   "metadata": {
    "collapsed": false
   },
   "outputs": [],
   "source": [
    "img=Image.open('est.jpg')\n",
    "a = np.array(img.getdata()).astype(np.float32).reshape((3, img.size[0], img.size[1]))"
   ]
  },
  {
   "cell_type": "code",
   "execution_count": 48,
   "metadata": {
    "collapsed": false
   },
   "outputs": [],
   "source": [
    "#Reading Images\n",
    "images_list=[]\n",
    "label_list=[]\n",
    "for filename in glob.glob('Corrolla Vision Test\\*\\*.jpg'):\n",
    "    im=Image.open(filename)\n",
    "    im_pre_process=pre_process_image(im)\n",
    "    im_matrix=convert_to_matrix(im_pre_process)\n",
    "    images_list.append(im_matrix)\n",
    "    label_list.append(filename)"
   ]
  },
  {
   "cell_type": "code",
   "execution_count": 59,
   "metadata": {
    "collapsed": false
   },
   "outputs": [],
   "source": [
    "X_train=array_images[0:88,:,:,:]\n",
    "X_test=array_images[88:,:,:,:]"
   ]
  },
  {
   "cell_type": "code",
   "execution_count": 60,
   "metadata": {
    "collapsed": false
   },
   "outputs": [],
   "source": [
    "test_images=extract_class(label_list)"
   ]
  },
  {
   "cell_type": "code",
   "execution_count": 109,
   "metadata": {
    "collapsed": false
   },
   "outputs": [],
   "source": [
    "Y_train=test_images[0:88]\n",
    "Y_test=test_images[88:]"
   ]
  },
  {
   "cell_type": "code",
   "execution_count": 110,
   "metadata": {
    "collapsed": false
   },
   "outputs": [],
   "source": [
    "Y_test_raw=[]\n",
    "for item in label_list[88:]:\n",
    "    Y_test_raw.append('Toyota - Corrolla - '+item.split('\\\\')[2][0:4]+'.jpg')"
   ]
  },
  {
   "cell_type": "code",
   "execution_count": 113,
   "metadata": {
    "collapsed": false
   },
   "outputs": [],
   "source": [
    "Y_train=return_array_classes(Y_train)"
   ]
  },
  {
   "cell_type": "code",
   "execution_count": 117,
   "metadata": {
    "collapsed": false
   },
   "outputs": [],
   "source": [
    "Y_test=return_array_classes(Y_test_raw)"
   ]
  },
  {
   "cell_type": "code",
   "execution_count": 118,
   "metadata": {
    "collapsed": false
   },
   "outputs": [
    {
     "data": {
      "text/plain": [
       "array([1996, 2003, 2008, 2008, 2009, 2009, 2010, 2010, 2011, 2011, 2012,\n",
       "       2012, 2013, 2013, 2014, 2014, 2014, 2015, 2015, 2016, 2016])"
      ]
     },
     "execution_count": 118,
     "metadata": {},
     "output_type": "execute_result"
    }
   ],
   "source": [
    "Y_test"
   ]
  },
  {
   "cell_type": "code",
   "execution_count": 119,
   "metadata": {
    "collapsed": false
   },
   "outputs": [
    {
     "data": {
      "text/plain": [
       "array([2008, 2008, 2008, 2008, 2008, 2008, 2008, 2008, 2008, 2008, 2009,\n",
       "       2009, 2009, 2009, 2009, 2009, 2009, 2009, 2009, 2009, 2009, 2009,\n",
       "       2010, 2010, 2010, 2010, 2010, 2010, 2010, 2010, 2010, 2010, 2011,\n",
       "       2011, 2011, 2011, 2011, 2011, 2011, 2011, 2012, 2012, 2012, 2012,\n",
       "       2012, 2012, 2012, 2012, 2012, 2012, 2012, 2012, 2013, 2013, 2013,\n",
       "       2013, 2013, 2013, 2013, 2013, 2013, 2014, 2014, 2014, 2014, 2014,\n",
       "       2014, 2014, 2014, 2015, 2015, 2015, 2015, 2015, 2015, 2015, 2015,\n",
       "       2015, 2015, 2016, 2016, 2016, 2016, 2016, 2016, 2016, 2016, 2016])"
      ]
     },
     "execution_count": 119,
     "metadata": {},
     "output_type": "execute_result"
    }
   ],
   "source": [
    "Y_train"
   ]
  },
  {
   "cell_type": "code",
   "execution_count": 121,
   "metadata": {
    "collapsed": false
   },
   "outputs": [
    {
     "data": {
      "text/plain": [
       "array([2008, 2008, 2009, 2009, 2010, 2010, 2011, 2011, 2012, 2012, 2013,\n",
       "       2013, 2014, 2014, 2014, 2015, 2015, 2016, 2016])"
      ]
     },
     "execution_count": 121,
     "metadata": {},
     "output_type": "execute_result"
    }
   ],
   "source": [
    "Y_test"
   ]
  },
  {
   "cell_type": "code",
   "execution_count": 123,
   "metadata": {
    "collapsed": false
   },
   "outputs": [
    {
     "data": {
      "text/plain": [
       "(21L, 3L, 330L, 220L)"
      ]
     },
     "execution_count": 123,
     "metadata": {},
     "output_type": "execute_result"
    }
   ],
   "source": [
    "X_test.shape"
   ]
  },
  {
   "cell_type": "code",
   "execution_count": 124,
   "metadata": {
    "collapsed": false
   },
   "outputs": [
    {
     "data": {
      "text/plain": [
       "(19L,)"
      ]
     },
     "execution_count": 124,
     "metadata": {},
     "output_type": "execute_result"
    }
   ],
   "source": [
    "Y_test.shape"
   ]
  },
  {
   "cell_type": "code",
   "execution_count": 125,
   "metadata": {
    "collapsed": true
   },
   "outputs": [],
   "source": [
    "X_test=X_test[2:]"
   ]
  },
  {
   "cell_type": "code",
   "execution_count": 126,
   "metadata": {
    "collapsed": false
   },
   "outputs": [
    {
     "data": {
      "text/plain": [
       "(19L, 3L, 330L, 220L)"
      ]
     },
     "execution_count": 126,
     "metadata": {},
     "output_type": "execute_result"
    }
   ],
   "source": [
    "X_test.shape"
   ]
  },
  {
   "cell_type": "code",
   "execution_count": 69,
   "metadata": {
    "collapsed": false
   },
   "outputs": [
    {
     "data": {
      "text/plain": [
       "'Toyota - Corrolla - 2008.jpg'"
      ]
     },
     "execution_count": 69,
     "metadata": {},
     "output_type": "execute_result"
    }
   ],
   "source": [
    "Y_test[0]"
   ]
  },
  {
   "cell_type": "code",
   "execution_count": 127,
   "metadata": {
    "collapsed": false
   },
   "outputs": [],
   "source": [
    "np.save('X_train.npy', X_train)\n",
    "np.save('Y_train.npy', Y_train)\n",
    "np.save('X_test.npy', X_test)\n",
    "np.save('Y_test.npy', Y_test)"
   ]
  },
  {
   "cell_type": "code",
   "execution_count": 58,
   "metadata": {
    "collapsed": false
   },
   "outputs": [],
   "source": [
    "def load_data():\n",
    "    X_train=np.load('X_train.npy')\n",
    "    Y_train=np.load('Y_train.npy')\n",
    "    X_test=np.load('X_test.npy')\n",
    "    Y_test=np.load('Y_test.npy')\n",
    "    Y_train_uniques, Y_train_ids = np.unique(Y_train, return_inverse=True)\n",
    "    Y_test_uniques, Y_test_ids = np.unique(Y_test, return_inverse=True)\n",
    "    Y_train = np_utils.to_categorical(Y_train_ids, nb_classes)\n",
    "    Y_test = np_utils.to_categorical(Y_test_ids, nb_classes)\n",
    "    return X_train, Y_train, X_test, Y_test"
   ]
  },
  {
   "cell_type": "code",
   "execution_count": 28,
   "metadata": {
    "collapsed": false
   },
   "outputs": [],
   "source": [
    "#To bring classes in 0-9 range\n",
    "#Y_train=np.fmod(Y_train, 10)\n",
    "#Y_test=np.fmod(Y_test, 10)"
   ]
  },
  {
   "cell_type": "code",
   "execution_count": 30,
   "metadata": {
    "collapsed": false
   },
   "outputs": [],
   "source": [
    "import keras"
   ]
  },
  {
   "cell_type": "code",
   "execution_count": 31,
   "metadata": {
    "collapsed": true
   },
   "outputs": [],
   "source": [
    "from __future__ import print_function\n",
    "#from keras.datasets import cifar10\n",
    "from keras.preprocessing.image import ImageDataGenerator\n",
    "from keras.models import Sequential\n",
    "from keras.layers import Dense, Dropout, Activation, Flatten\n",
    "from keras.layers import Convolution2D, MaxPooling2D\n",
    "from keras.optimizers import SGD\n",
    "from keras.utils import np_utils"
   ]
  },
  {
   "cell_type": "code",
   "execution_count": 111,
   "metadata": {
    "collapsed": true
   },
   "outputs": [],
   "source": [
    "batch_size = 22\n",
    "nb_classes = 9\n",
    "nb_epoch = 10\n",
    "data_augmentation = True"
   ]
  },
  {
   "cell_type": "code",
   "execution_count": 112,
   "metadata": {
    "collapsed": false
   },
   "outputs": [
    {
     "name": "stdout",
     "output_type": "stream",
     "text": [
      "X_train shape: (88L, 3L, 330L, 220L)\n",
      "88 train samples\n",
      "19 test samples\n"
     ]
    }
   ],
   "source": [
    "img_rows, img_cols = 320, 220\n",
    "# the CIFAR10 images are RGB\n",
    "img_channels = 3\n",
    "\n",
    "# the data, shuffled and split between train and test sets\n",
    "X_train, Y_train, X_test, Y_test = load_data()\n",
    "print('X_train shape:', X_train.shape)\n",
    "print(X_train.shape[0], 'train samples')\n",
    "print(X_test.shape[0], 'test samples')"
   ]
  },
  {
   "cell_type": "code",
   "execution_count": 113,
   "metadata": {
    "collapsed": false
   },
   "outputs": [],
   "source": [
    "model = Sequential()\n",
    "\n",
    "model.add(Convolution2D(20, 9, 7, border_mode='same',\n",
    "                        input_shape=X_train.shape[1:]))\n",
    "model.add(Activation('relu'))\n",
    "model.add(Convolution2D(20, 9, 7))\n",
    "model.add(Activation('relu'))\n",
    "model.add(MaxPooling2D(pool_size=(2, 2)))\n",
    "#model.add(Dropout(0.25))\n",
    "\n",
    "model.add(Convolution2D(30, 10, 7, border_mode='same'))\n",
    "model.add(Activation('relu'))\n",
    "model.add(Convolution2D(30, 9, 5))\n",
    "model.add(Activation('relu'))\n",
    "model.add(MaxPooling2D(pool_size=(2, 2)))\n",
    "#model.add(Dropout(0.25))\n",
    "\n",
    "model.add(Convolution2D(40, 7, 4, border_mode='same'))\n",
    "model.add(Activation('relu'))\n",
    "model.add(Convolution2D(40, 7, 5))\n",
    "model.add(Activation('relu'))\n",
    "model.add(MaxPooling2D(pool_size=(2, 2)))\n",
    "#model.add(Dropout(0.25))\n",
    "\n",
    "model.add(Convolution2D(40, 7, 5, border_mode='same'))\n",
    "model.add(Activation('relu'))\n",
    "model.add(Convolution2D(40, 6, 5))\n",
    "model.add(Activation('relu'))\n",
    "model.add(MaxPooling2D(pool_size=(2, 2)))\n",
    "model.add(Dropout(0.25))\n",
    "\n",
    "model.add(Flatten())\n",
    "model.add(Dense(512))\n",
    "model.add(Activation('relu'))\n",
    "model.add(Dropout(0.5))\n",
    "model.add(Dense(nb_classes))\n",
    "model.add(Activation('softmax'))"
   ]
  },
  {
   "cell_type": "code",
   "execution_count": 114,
   "metadata": {
    "collapsed": true
   },
   "outputs": [],
   "source": [
    "\n",
    "# let's train the model using SGD + momentum (how original).\n",
    "sgd = SGD(lr=0.1, decay=1e-6, momentum=0.9, nesterov=True)\n",
    "model.compile(loss='categorical_crossentropy',\n",
    "              optimizer=sgd,\n",
    "              metrics=['accuracy'])"
   ]
  },
  {
   "cell_type": "code",
   "execution_count": 115,
   "metadata": {
    "collapsed": false
   },
   "outputs": [],
   "source": [
    "\n",
    "X_train = X_train.astype('float32')\n",
    "X_test = X_test.astype('float32')\n",
    "X_train /= 255\n",
    "X_test /= 255"
   ]
  },
  {
   "cell_type": "code",
   "execution_count": null,
   "metadata": {
    "collapsed": false
   },
   "outputs": [
    {
     "name": "stdout",
     "output_type": "stream",
     "text": [
      "Using real-time data augmentation.\n",
      "Epoch 1/10\n",
      "66/88 [=====================>........] - ETA: 13s - loss: 4.4537 - acc: 0.1212"
     ]
    }
   ],
   "source": [
    "if not data_augmentation:\n",
    "    print('Not using data augmentation.')\n",
    "    model.fit(X_train, Y_train,\n",
    "              batch_size=batch_size,\n",
    "              nb_epoch=nb_epoch,\n",
    "              validation_data=(X_test, Y_test),\n",
    "              shuffle=True)\n",
    "else:\n",
    "    print('Using real-time data augmentation.')\n",
    "    # This will do preprocessing and realtime data augmentation:\n",
    "    datagen = ImageDataGenerator(\n",
    "        featurewise_center=True,  # set input mean to 0 over the dataset\n",
    "        samplewise_center=False,  # set each sample mean to 0\n",
    "        featurewise_std_normalization=True,  # divide inputs by std of the dataset\n",
    "        samplewise_std_normalization=False,  # divide each input by its std\n",
    "        zca_whitening=False,  # apply ZCA whitening\n",
    "        rotation_range=20,  # randomly rotate images in the range (degrees, 0 to 180)\n",
    "        width_shift_range=0.2,  # randomly shift images horizontally (fraction of total width)\n",
    "        height_shift_range=0.2,  # randomly shift images vertically (fraction of total height)\n",
    "        horizontal_flip=True,  # randomly flip images\n",
    "        vertical_flip=False)  # randomly flip images\n",
    "\n",
    "    # Compute quantities required for featurewise normalization\n",
    "    # (std, mean, and principal components if ZCA whitening is applied).\n",
    "    datagen.fit(X_train)\n",
    "\n",
    "    # Fit the model on the batches generated by datagen.flow().\n",
    "    model.fit_generator(datagen.flow(X_train, Y_train,\n",
    "                        batch_size=batch_size),\n",
    "                        samples_per_epoch=X_train.shape[0],\n",
    "                        nb_epoch=nb_epoch,\n",
    "                        validation_data=(X_test, Y_test))"
   ]
  },
  {
   "cell_type": "code",
   "execution_count": null,
   "metadata": {
    "collapsed": true
   },
   "outputs": [],
   "source": []
  },
  {
   "cell_type": "code",
   "execution_count": null,
   "metadata": {
    "collapsed": true
   },
   "outputs": [],
   "source": []
  },
  {
   "cell_type": "code",
   "execution_count": null,
   "metadata": {
    "collapsed": true
   },
   "outputs": [],
   "source": []
  }
 ],
 "metadata": {
  "kernelspec": {
   "display_name": "Python 2",
   "language": "python",
   "name": "python2"
  },
  "language_info": {
   "codemirror_mode": {
    "name": "ipython",
    "version": 2
   },
   "file_extension": ".py",
   "mimetype": "text/x-python",
   "name": "python",
   "nbconvert_exporter": "python",
   "pygments_lexer": "ipython2",
   "version": "2.7.12"
  }
 },
 "nbformat": 4,
 "nbformat_minor": 0
}
